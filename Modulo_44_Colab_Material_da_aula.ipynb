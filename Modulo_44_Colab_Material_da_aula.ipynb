{
  "nbformat": 4,
  "nbformat_minor": 0,
  "metadata": {
    "colab": {
      "provenance": []
    },
    "kernelspec": {
      "name": "python3",
      "display_name": "Python 3"
    }
  },
  "cells": [
    {
      "cell_type": "markdown",
      "metadata": {
        "id": "KJqp9AANOCtf"
      },
      "source": [
        "<img src=\"https://raw.githubusercontent.com/andre-marcos-perez/ebac-course-utils/main/media/logo/newebac_logo_black_half.png\" alt=\"ebac-logo\">\n",
        "\n",
        "*(notebook de Queries em SQL baseado no módulo estudado no curso de Analista de Dados)*\n"
      ]
    },
    {
      "cell_type": "markdown",
      "source": [
        "### **3.1. AWS Athena**"
      ],
      "metadata": {
        "id": "WN1tLjfUQ40B"
      }
    },
    {
      "cell_type": "markdown",
      "source": [
        "```sql\n",
        "CREATE EXTERNAL TABLE `telegram`(\n",
        "  `message_id` bigint,\n",
        "  `user_id` bigint,\n",
        "  `user_is_bot` boolean,\n",
        "  `user_first_name` string,\n",
        "  `chat_id` bigint,\n",
        "  `chat_type` string,\n",
        "  `text` string,\n",
        "  `date` bigint)\n",
        "PARTITIONED BY (\n",
        "  `context_date` date)\n",
        "ROW FORMAT SERDE\n",
        "  'org.apache.hadoop.hive.ql.io.parquet.serde.ParquetHiveSerDe'\n",
        "STORED AS INPUTFORMAT\n",
        "  'org.apache.hadoop.hive.ql.io.parquet.MapredParquetInputFormat'\n",
        "OUTPUTFORMAT\n",
        "  'org.apache.hadoop.hive.ql.io.parquet.MapredParquetOutputFormat'\n",
        "LOCATION\n",
        "  's3://<bucket-enriquecido>/'\n",
        "```"
      ],
      "metadata": {
        "id": "hjsrFaxafJnB"
      }
    },
    {
      "cell_type": "markdown",
      "source": [
        "```sql\n",
        "MSCK REPAIR TABLE `telegram`;\n",
        "```"
      ],
      "metadata": {
        "id": "L_XiPFyOOxze"
      }
    },
    {
      "cell_type": "markdown",
      "source": [
        "E consulte as 10 primeiras linhas para observar o resultado."
      ],
      "metadata": {
        "id": "v7ixVPgZO0ea"
      }
    },
    {
      "cell_type": "markdown",
      "source": [
        "```sql\n",
        "SELECT * FROM `telegram` LIMIT 10;\n",
        "```"
      ],
      "metadata": {
        "id": "krcRJ4OcO6tX"
      }
    },
    {
      "cell_type": "markdown",
      "source": [
        "### **3.2. Analytics**"
      ],
      "metadata": {
        "id": "y0GAuhJxQ40B"
      }
    },
    {
      "cell_type": "markdown",
      "source": [
        "Com o dado disponível, usuário podem executar as mais variadas consultas analíticas. Seguem alguns exemplos:"
      ],
      "metadata": {
        "id": "jzA596vHkrnj"
      }
    },
    {
      "cell_type": "markdown",
      "source": [
        "- Quantidade de mensagens por dia."
      ],
      "metadata": {
        "id": "VmC5D0hIk7il"
      }
    },
    {
      "cell_type": "markdown",
      "source": [
        "```sql\n",
        "SELECT\n",
        "  context_date,\n",
        "  count(1) AS \"message_amount\"\n",
        "FROM \"telegram\"\n",
        "GROUP BY context_date\n",
        "ORDER BY context_date DESC\n",
        "```"
      ],
      "metadata": {
        "id": "H5jg8V2NkuLn"
      }
    },
    {
      "cell_type": "markdown",
      "source": [
        "- Quantidade de mensagens por usuário por dia."
      ],
      "metadata": {
        "id": "6FuUchi4k_Dk"
      }
    },
    {
      "cell_type": "markdown",
      "source": [
        "```sql\n",
        "SELECT\n",
        "  user_id,\n",
        "  user_first_name,\n",
        "  context_date,\n",
        "  count(1) AS \"message_amount\"\n",
        "FROM \"telegram\"\n",
        "GROUP BY\n",
        "  user_id,\n",
        "  user_first_name,\n",
        "  context_date\n",
        "ORDER BY context_date DESC\n",
        "```"
      ],
      "metadata": {
        "id": "yFKFbHqulCDP"
      }
    },
    {
      "cell_type": "markdown",
      "source": [
        "- Média do tamanho das mensagens por usuário por dia."
      ],
      "metadata": {
        "id": "zsyANjG8lOf8"
      }
    },
    {
      "cell_type": "markdown",
      "source": [
        "```sql\n",
        "SELECT\n",
        "  user_id,\n",
        "  user_first_name,\n",
        "  context_date,\n",
        "  CAST(AVG(length(text)) AS INT) AS \"average_message_length\"\n",
        "FROM \"telegram\"\n",
        "GROUP BY\n",
        "  user_id,\n",
        "  user_first_name,\n",
        "  context_date\n",
        "ORDER BY context_date DESC\n",
        "```"
      ],
      "metadata": {
        "id": "0oZjoNkPlSHd"
      }
    },
    {
      "cell_type": "markdown",
      "source": [
        "- Quantidade de mensagens por hora por dia da semana por número da semana."
      ],
      "metadata": {
        "id": "1lrnb11eTpQ8"
      }
    },
    {
      "cell_type": "markdown",
      "source": [
        "```sql\n",
        "WITH\n",
        "parsed_date_cte AS (\n",
        "    SELECT\n",
        "        *,\n",
        "        CAST(date_format(from_unixtime(\"date\"),'%Y-%m-%d %H:%i:%s') AS timestamp) AS parsed_date\n",
        "    FROM \"telegram\"\n",
        "),\n",
        "hour_week_cte AS (\n",
        "    SELECT\n",
        "        *,\n",
        "        EXTRACT(hour FROM parsed_date) AS parsed_date_hour,\n",
        "        EXTRACT(dow FROM parsed_date) AS parsed_date_weekday,\n",
        "        EXTRACT(week FROM parsed_date) AS parsed_date_weeknum\n",
        "    FROM parsed_date_cte\n",
        ")\n",
        "SELECT\n",
        "    parsed_date_hour,\n",
        "    parsed_date_weekday,\n",
        "    parsed_date_weeknum,\n",
        "    count(1) AS \"message_amount\"\n",
        "FROM hour_week_cte\n",
        "GROUP BY\n",
        "    parsed_date_hour,\n",
        "    parsed_date_weekday,\n",
        "    parsed_date_weeknum\n",
        "ORDER BY\n",
        "    parsed_date_weeknum,\n",
        "    parsed_date_weekday\n",
        "```"
      ],
      "metadata": {
        "id": "7SJckV-nTpQ_"
      }
    }
  ]
}